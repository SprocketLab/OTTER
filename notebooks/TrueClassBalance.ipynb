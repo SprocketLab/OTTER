{
 "cells": [
  {
   "cell_type": "code",
   "execution_count": null,
   "id": "c632a844-baed-4ba7-a973-6cb895f2c109",
   "metadata": {},
   "outputs": [],
   "source": [
    "%load_ext autoreload\n",
    "%autoreload 2\n",
    "\n",
    "import os\n",
    "import sys\n",
    "from sklearn.metrics import accuracy_score\n",
    "sys.path.append('../src')\n",
    "import metainfo\n",
    "from metainfo import img_dataset_list, txt_dataset_list, img_zs_model_list, txt_zs_model_list\n",
    "from data_utils import load_emb, load_label_encoding, load_label, get_n_classes, get_class_balance\n",
    "from inference import zs_predict, ot_predict, pm_predict\n",
    "\n",
    "base_path = metainfo.test_emb_path\n",
    "model_name = 'RN50'\n",
    "dataset_name = 'CIFAR10'\n",
    "\n",
    "emb = load_emb(dataset_name=dataset_name, model_name=model_name, base_path=base_path)\n",
    "label_encodings = load_label_encoding(dataset_name=dataset_name, model_name=model_name, base_path=base_path)\n",
    "labels = load_label(dataset_name=dataset_name, model_name=model_name, base_path=base_path)\n",
    "n_classes = get_n_classes(labels)\n",
    "true_class_balance = get_class_balance(labels, n_classes)\n"
   ]
  },
  {
   "cell_type": "code",
   "execution_count": null,
   "id": "1ad7c315",
   "metadata": {},
   "outputs": [],
   "source": [
    "zs_pred = zs_predict(emb, label_encodings)\n",
    "pm_pred = pm_predict(emb, label_encodings, n_classes=n_classes, class_balance=true_class_balance)\n",
    "ot_pred = ot_predict(emb, label_encodings, n_classes=n_classes, class_balance=true_class_balance)\n",
    "\n",
    "zs_acc = accuracy_score(labels, zs_pred)\n",
    "pm_acc = accuracy_score(labels, pm_pred)\n",
    "ot_acc= accuracy_score(labels, ot_pred)\n",
    "\n",
    "zs_acc, pm_acc, ot_acc"
   ]
  }
 ],
 "metadata": {
  "kernelspec": {
   "display_name": "ot",
   "language": "python",
   "name": "ot"
  },
  "language_info": {
   "codemirror_mode": {
    "name": "ipython",
    "version": 3
   },
   "file_extension": ".py",
   "mimetype": "text/x-python",
   "name": "python",
   "nbconvert_exporter": "python",
   "pygments_lexer": "ipython3",
   "version": "3.9.17"
  }
 },
 "nbformat": 4,
 "nbformat_minor": 5
}
